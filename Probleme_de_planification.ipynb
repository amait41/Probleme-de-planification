{
   "cell_type": "markdown",
   "metadata": {},
   "source": [
    "# Problème de planification"
   ]
  },
  {
   "cell_type": "markdown",
   "metadata": {},
   "source": [
    "Une entreprise, spécialisée dans la construction de cartes à puces, désire minimiser les coûts de\n",
    "leurs productions. Lors de la production de ces cartes, l’entreprise a besoin de certains composants\n",
    "électroniques, qu’elle produit elle-même. Une bonne planification de la production est facile à\n",
    "réaliser puisque les composants sont produits en interne. Les trois composants dont la production\n",
    "est à planifier sur quatre mois sont notés sous les références M1, M2, M3. Le coût de fabrication\n",
    "de ces composants comporte les coûts de production proprements dits, les coûts de stockage, mais\n",
    "aussi des coûts liés aux variations des niveaux en production. En effet, quand le niveau total (i.e.,\n",
    "tout type de composants) de la production change, des réglages machines et des vérifications sont\n",
    "à effectuer pour le mois en cours. Le coût associé est proportionnel à la quantité totale produite\n",
    "en plus ou en moins par rapport au mois précédent. Le coût pour une augmentation est de 1 euros\n",
    "par pièce en plus, alors que celui d’une diminution est seulement de 0.5 euros par pièce en moins.\n",
    "Notons qu’un changement de niveau de production n’est autre que la différence entre la quantité\n",
    "totale produite lors du mois en question et la quantité totale produite lors du mois précédent.\n",
    "Les informations concernant, pour chaque composant, la demande (Dem) par période, les coûts\n",
    "de production (en euros par unité) et de stockage (en euros par unité) ainsi que le stock initial et\n",
    "le stock final désirés pour chacun des produits, sont données dans le tableau suivant :\n",
    "\n",
    "|  |Dem. mois 1|Dem. mois 2|Dem. mois 3|Dem. mois 4|Coût prod.|Coût stock|Stock init|Stock final|\n",
    "|--|-----------|-----------|-----------|-----------|----------|----------|----------|-----------|\n",
    "|M1|1500       |3000       |2000       |4000       |20        |1         |10        |50         |\n",
    "|M2|1300       |800        |800        |1000       |25        |2         |0         |10         |\n",
    "|M1|2200       |1500       |2900       |1800       |10        |3         |50        |30         |\n",
    "\n",
    "1. Ecrire le programme linéaire dont l’objectif est de fixer le plan de production qui minimise la somme des coûts de changement du niveau de production, des coûts de production et des coûts de stockage.\n",
    "2. Ecrire le programme Python correspondant et calculer le résultat demandé."
   ]
  },
  {
   "cell_type": "markdown",
   "metadata": {},
   "source": [
    "## Modélisation"
   ]
  },
  {
   "cell_type": "markdown",
   "metadata": {},
   "source": [
    "### Variables"
   ]
  },
  {
   "cell_type": "markdown",
   "metadata": {},
   "source": [
    "Pour le mois $i$ et le composant $j$, on pose:\n",
    "- $d_{i,j}$ la demande\n",
    "- $x_{i,j}$ la production\n",
    "- $s_{i,j}$ le stock.\n",
    "\n",
    "De plus, nous aurons besoin de poser des contraintes sur le coût de manutention. On note alors $m_i$ le coût de manutantion pour les mois $i-1$ à $i$ tel que $i=2,3,4$ et $m_1=0$.\n",
    "\n",
    "$x_{i,j}$, $s_{i,j}$ et $m_{i}$ seront les variables de notre système et $d_{i,j}$ des constantes."
   ]
  },
  {
   "cell_type": "markdown",
   "metadata": {},
   "source": [
    "### Fonction coût"
   ]
  },
  {
   "cell_type": "markdown",
   "metadata": {},
   "source": [
    "La fonction est composée pour le mois $i$ du coût de production $C^{P}_{i}$, du coût de stockage $C^{S}_{i}$, et du coût de manutention $C^{M}_{i}$, tels que:\n",
    "\n",
    "$$\n",
    "\\left\\{\n",
    "    \\begin{array}{ll}\n",
    "        C^P_i = 20x_{i,1} + 25x_{i,2} + 10x_{i,3} \\\\\n",
    "        C^S_i = s_{i,1} + 2s_{i,2} + 3s_{i,3} \\\\\n",
    "        C^M_i = m_i\n",
    "    \\end{array}\n",
    "\\right.\n",
    "$$\n",
    "\n",
    "Ainsi le coût total $C$ est définit comme suit:\n",
    "$$\n",
    "C = \\sum\\limits^4_{i=1} C^P_i + C^S_i + C^M_i\n",
    "$$"
   ]
  },
  {
   "cell_type": "markdown",
   "metadata": {},
   "source": [
    "### Contraintes"
   ]
  },
  {
   "cell_type": "markdown",
   "metadata": {},
   "source": [
    "La production ajoutée aux stocks, doit être supérieure à la demande pour les mois 1 à 4 et pour les composants 1, 2 et 3 (1). Les stocks d'un mois pour un composant correspond exactement à la production du mois plus le stock  moins la demande du mois précédant (6). Les stocks initiaux (7) et finals (8) sont fixés. Les productions, les stocks et les coûts de maintenance sont positifs (resp. 4, 5, et 6). Et pour finir, on note pour les mois 2,3 et 4, $\\Delta_i$ la variation de prodction du mois $i-1$ au mois $i$ tel que $\\Delta_i = \\sum\\limits^3_{j=1} x_{i,j} - x_{i-1,j}, \\: i=2,3,4$ (et $\\Delta_1 = 0$). $\\:$ Alors $m_i \\geq max(-\\frac{1}{2}\\Delta_i, \\Delta_i)$  (2 et 3).\n",
    "\n",
    "Alors les contraintes sur les variables $x_{i,j}$, $s_{i,j}$ et $c_{i}$ se traduisent par le système suivant: <br>\n",
    "<br>\n",
    "$$\n",
    "\\left\\{\n",
    "    \\begin{array}{ll}\n",
    "        -x_{i,j} - s_{i,j} \\leq -d_{i,j} \\quad &\\forall i = {1,\\cdots,4}, \\quad \\forall j=1,\\cdots,3 \\quad &(1)\\\\\n",
    "        - \\frac{1}{2} \\Delta_i - m_i \\leq 0 \\quad &\\forall i = {1,\\cdots,4} \\quad &(2)\\\\\n",
    "        \\Delta_i - m_i \\leq 0, \\quad &\\forall i = {1,\\cdots,4} \\quad &(3)\\\\\n",
    "        -x_{i,j} \\leq 0, \\quad &\\forall i = {1,\\cdots,4}, \\quad \\forall j=1,\\cdots,3 \\quad &(4)\\\\\n",
    "        -s_{i,j} \\leq 0, \\quad &\\forall i = {1,\\cdots,4}, \\quad \\forall j=1,\\cdots,3 \\quad &(5)\\\\\n",
    "        -m_{i} \\leq 0, \\quad &\\forall i = {1,\\cdots,4} \\quad &(6)\\\\\n",
    "        x_{i-1,j} + s_{i-1,j} - d_{i-1,j} = s_{i,j} &\\forall i = {1,\\cdots,4} \\quad &(7)\\\\\n",
    "        s_{1,1} = 10, \\: s_{1,2} = 0, \\:s_{1,3} = 50 &\\quad &(8)\\\\\n",
    "        x_{4,1} + s_{4,1} - d_{4,1} = 50, \\; x_{4,2} + s_{4,2} - d_{4,2} = 10, \\: x_{4,3} + s_{4,3} - d_{4,3} = 30 &\\quad &(9)\\\\\n",
    "    \\end{array}\n",
    "\\right.\n",
    "$$"
   ]
  },
  {
   "cell_type": "markdown",
   "metadata": {},
   "source": [
    "## Programmation"
   ]
  },
  {
   "cell_type": "markdown",
   "metadata": {},
   "source": [
    "Nous allons à présent utiliser la fonction `linprog` du package `scipy.optimize` pour résoudre le problème."
   ]
  },
  {
   "cell_type": "code",
   "execution_count": 10,
   "metadata": {},
   "outputs": [],
   "source": [
    "import numpy as np\n",
    "import pandas as pd\n",
    "from scipy.optimize import linprog"
   ]
  },
  {
   "cell_type": "markdown",
   "metadata": {},
   "source": [
    "### Constantes"
   ]
  },
  {
   "cell_type": "code",
   "execution_count": 11,
   "metadata": {},
   "outputs": [],
   "source": [
    "# demande par mois par composant\n",
    "d = np.array([[1500,1300,2200],\n",
    "              [3000,800,1500],\n",
    "              [2000,800,2900],\n",
    "              [4000,1000,1800]])\n",
    "# coût de production\n",
    "cp = np.array([20,25,10])\n",
    "# coût de stockage\n",
    "cs = np.array([1,2,3])\n",
    "# stock initial\n",
    "stock_initial = np.array([10,0,50])\n",
    "# stock final\n",
    "stock_final = np.array([50,10,30])"
   ]
  },
  {
   "cell_type": "markdown",
   "metadata": {},
   "source": [
    "### Contraintes d'inégalité"
   ]
  },
  {
   "cell_type": "code",
   "execution_count": 12,
   "metadata": {},
   "outputs": [
    {
     "name": "stdout",
     "output_type": "stream",
     "text": [
      "(18, 27)\n",
      "(18,)\n"
     ]
    }
   ],
   "source": [
    "# contrainte sur la demande\n",
    "A_ub1 = -np.hstack([np.eye(12), np.eye(12), np.zeros((12,3))])\n",
    "# contrainte sur les coûts de manutantion\n",
    "A_ub2 = np.hstack([np.array([[1/2,1/2,1/2, -1/2,-1/2,-1/2, 0,0,0, 0,0,0],\n",
    "                             [-1,-1,-1, 1,1,1, 0,0,0, 0,0,0],\n",
    "                             [0,0,0, 1/2,1/2,1/2, -1/2,-1/2,-1/2, 0,0,0],\n",
    "                             [0,0,0, -1,-1,-1, 1,1,1, 0,0,0],\n",
    "                             [0,0,0, 0,0,0, 1/2,1/2,1/2, -1/2,-1/2,-1/2],\n",
    "                             [0,0,0, 0,0,0, -1,-1,-1, 1,1,1]]),\n",
    "                   np.zeros((6,12)),\n",
    "                   -np.array([1,0,0, 1,0,0, 0,1,0, 0,1,0, 0,0,1, 0,0,1]).reshape(6,3)\n",
    "                  ])\n",
    "A_ub = np.vstack([A_ub1, A_ub2])\n",
    "\n",
    "b_ub1 = -d.ravel()\n",
    "b_ub2 = np.zeros(6)\n",
    "b_ub = np.hstack([b_ub1, b_ub2])\n",
    "\n",
    "print(A_ub.shape)\n",
    "print(b_ub.shape)"
   ]
  },
  {
   "cell_type": "markdown",
   "metadata": {},
   "source": [
    "### Contraintes d'égalité"
   ]
  },
  {
   "cell_type": "code",
   "execution_count": 13,
   "metadata": {},
   "outputs": [
    {
     "name": "stdout",
     "output_type": "stream",
     "text": [
      "(15, 27)\n",
      "(15,)\n"
     ]
    }
   ],
   "source": [
    "# contrainte sur le stock initial\n",
    "A_eq1 = np.hstack([np.zeros((3,12)), np.eye(3), np.zeros((3,12))])\n",
    "# contrainte sur les stocks intermédiaires\n",
    "A_eq2 = np.hstack([np.eye(9), np.zeros((9,3)), np.eye(9,12) - np.eye(9,12,k=3), np.zeros((9,3))])\n",
    "# contrainte sur le stock final\n",
    "A_eq3 = np.hstack([np.zeros((3,9)), np.eye(3), np.zeros((3,9)), np.eye(3), np.zeros((3,3))])\n",
    "A_eq = np.vstack([A_eq1, A_eq2, A_eq3])\n",
    "\n",
    "b_eq1 = stock_initial\n",
    "b_eq2 = d.ravel()[:9]\n",
    "b_eq3 = stock_final + d.ravel()[9:]\n",
    "b_eq = np.hstack([b_eq1, b_eq2, b_eq3])\n",
    "\n",
    "print(A_eq.shape)\n",
    "print(b_eq.shape)"
   ]
  },
  {
   "cell_type": "markdown",
   "metadata": {},
   "source": [
    "### Fonction coût"
   ]
  },
  {
   "cell_type": "code",
   "execution_count": 14,
   "metadata": {},
   "outputs": [
    {
     "name": "stdout",
     "output_type": "stream",
     "text": [
      "(27,)\n"
     ]
    }
   ],
   "source": [
    "c_prod = np.hstack([cp, cp, cp, cp, np.zeros(15)])\n",
    "c_stock = np.hstack([np.zeros(12), cs, cs, cs, cs, np.zeros(3)])\n",
    "c_manu = np.hstack([np.zeros(24), np.ones(3)])\n",
    "c = c_prod + c_stock + c_manu\n",
    "\n",
    "print(c.shape)"
   ]
  },
  {
   "cell_type": "markdown",
   "metadata": {},
   "source": [
    "### Résultats"
   ]
  },
  {
   "cell_type": "code",
   "execution_count": 15,
   "metadata": {},
   "outputs": [
    {
     "name": "stdout",
     "output_type": "stream",
     "text": [
      "Optimization terminated successfully.\n"
     ]
    }
   ],
   "source": [
    "res = linprog(c, A_ub, b_ub, A_eq, b_eq, bounds=(0,None), method=\"simplex\")\n",
    "print(res.message)"
   ]
  },
  {
   "cell_type": "code",
   "execution_count": 16,
   "metadata": {},
   "outputs": [],
   "source": [
    "res.x = np.round(res.x,4)\n",
    "prod = [[res.x[i%3+3*j] for i in range(3)] for j in range(4)]\n",
    "stock = [[res.x[i%3+3*j+12] for i in range(3)] for j in range(4)]"
   ]
  },
  {
   "cell_type": "code",
   "execution_count": 17,
   "metadata": {},
   "outputs": [
    {
     "name": "stdout",
     "output_type": "stream",
     "text": [
      "Production:\n"
     ]
    },
    {
     "data": {
      "text/html": [
       "<div>\n",
       "<style scoped>\n",
       "    .dataframe tbody tr th:only-of-type {\n",
       "        vertical-align: middle;\n",
       "    }\n",
       "\n",
       "    .dataframe tbody tr th {\n",
       "        vertical-align: top;\n",
       "    }\n",
       "\n",
       "    .dataframe thead th {\n",
       "        text-align: right;\n",
       "    }\n",
       "</style>\n",
       "<table border=\"1\" class=\"dataframe\">\n",
       "  <thead>\n",
       "    <tr style=\"text-align: right;\">\n",
       "      <th></th>\n",
       "      <th>Mois 1</th>\n",
       "      <th>Mois 2</th>\n",
       "      <th>Mois 3</th>\n",
       "      <th>Mois 4</th>\n",
       "    </tr>\n",
       "  </thead>\n",
       "  <tbody>\n",
       "    <tr>\n",
       "      <th>Composant 1</th>\n",
       "      <td>1670.0</td>\n",
       "      <td>2820.0</td>\n",
       "      <td>2595.0</td>\n",
       "      <td>3455.0</td>\n",
       "    </tr>\n",
       "    <tr>\n",
       "      <th>Composant 2</th>\n",
       "      <td>1300.0</td>\n",
       "      <td>800.0</td>\n",
       "      <td>800.0</td>\n",
       "      <td>1010.0</td>\n",
       "    </tr>\n",
       "    <tr>\n",
       "      <th>Composant 3</th>\n",
       "      <td>2150.0</td>\n",
       "      <td>1500.0</td>\n",
       "      <td>2900.0</td>\n",
       "      <td>1830.0</td>\n",
       "    </tr>\n",
       "  </tbody>\n",
       "</table>\n",
       "</div>"
      ],
      "text/plain": [
       "             Mois 1  Mois 2  Mois 3  Mois 4\n",
       "Composant 1  1670.0  2820.0  2595.0  3455.0\n",
       "Composant 2  1300.0   800.0   800.0  1010.0\n",
       "Composant 3  2150.0  1500.0  2900.0  1830.0"
      ]
     },
     "metadata": {},
     "output_type": "display_data"
    }
   ],
   "source": [
    "prod = pd.DataFrame({'Mois 1':prod[0], 'Mois 2':prod[1], 'Mois 3':prod[2],'Mois 4':prod[3]})\n",
    "prod.index = ['Composant 1', 'Composant 2', 'Composant 3']\n",
    "print('Production:')\n",
    "display(prod)"
   ]
  },
  {
   "cell_type": "code",
   "execution_count": 18,
   "metadata": {},
   "outputs": [
    {
     "name": "stdout",
     "output_type": "stream",
     "text": [
      "Stock:\n"
     ]
    },
    {
     "data": {
      "text/html": [
       "<div>\n",
       "<style scoped>\n",
       "    .dataframe tbody tr th:only-of-type {\n",
       "        vertical-align: middle;\n",
       "    }\n",
       "\n",
       "    .dataframe tbody tr th {\n",
       "        vertical-align: top;\n",
       "    }\n",
       "\n",
       "    .dataframe thead th {\n",
       "        text-align: right;\n",
       "    }\n",
       "</style>\n",
       "<table border=\"1\" class=\"dataframe\">\n",
       "  <thead>\n",
       "    <tr style=\"text-align: right;\">\n",
       "      <th></th>\n",
       "      <th>Mois 1</th>\n",
       "      <th>Mois 2</th>\n",
       "      <th>Mois 3</th>\n",
       "      <th>Mois 4</th>\n",
       "      <th>Fin</th>\n",
       "    </tr>\n",
       "  </thead>\n",
       "  <tbody>\n",
       "    <tr>\n",
       "      <th>Composant 1</th>\n",
       "      <td>10.0</td>\n",
       "      <td>180.0</td>\n",
       "      <td>0.0</td>\n",
       "      <td>595.0</td>\n",
       "      <td>50.0</td>\n",
       "    </tr>\n",
       "    <tr>\n",
       "      <th>Composant 2</th>\n",
       "      <td>0.0</td>\n",
       "      <td>0.0</td>\n",
       "      <td>0.0</td>\n",
       "      <td>0.0</td>\n",
       "      <td>10.0</td>\n",
       "    </tr>\n",
       "    <tr>\n",
       "      <th>Composant 3</th>\n",
       "      <td>50.0</td>\n",
       "      <td>0.0</td>\n",
       "      <td>0.0</td>\n",
       "      <td>0.0</td>\n",
       "      <td>30.0</td>\n",
       "    </tr>\n",
       "  </tbody>\n",
       "</table>\n",
       "</div>"
      ],
      "text/plain": [
       "             Mois 1  Mois 2  Mois 3  Mois 4   Fin\n",
       "Composant 1    10.0   180.0     0.0   595.0  50.0\n",
       "Composant 2     0.0     0.0     0.0     0.0  10.0\n",
       "Composant 3    50.0     0.0     0.0     0.0  30.0"
      ]
     },
     "metadata": {},
     "output_type": "display_data"
    }
   ],
   "source": [
    "stock_fin = [prod.iloc[0,:].sum() - d[:,0].sum() + 10,\n",
    "             prod.iloc[1,:].sum() - d[:,1].sum() + 0,\n",
    "             prod.iloc[2,:].sum() - d[:,2].sum() + 50,\n",
    "            ]\n",
    "stock = pd.DataFrame({'Mois 1':stock[0], 'Mois 2':stock[1], 'Mois 3':stock[2],'Mois 4':stock[3], 'Fin':stock_fin})\n",
    "stock.index = ['Composant 1', 'Composant 2', 'Composant 3']\n",
    "print('Stock:')\n",
    "display(stock)"
   ]
  },
  {
   "cell_type": "code",
   "execution_count": 19,
   "metadata": {},
   "outputs": [
    {
     "data": {
      "text/html": [
       "<div>\n",
       "<style scoped>\n",
       "    .dataframe tbody tr th:only-of-type {\n",
       "        vertical-align: middle;\n",
       "    }\n",
       "\n",
       "    .dataframe tbody tr th {\n",
       "        vertical-align: top;\n",
       "    }\n",
       "\n",
       "    .dataframe thead th {\n",
       "        text-align: right;\n",
       "    }\n",
       "</style>\n",
       "<table border=\"1\" class=\"dataframe\">\n",
       "  <thead>\n",
       "    <tr style=\"text-align: right;\">\n",
       "      <th></th>\n",
       "      <th>Variation production</th>\n",
       "    </tr>\n",
       "  </thead>\n",
       "  <tbody>\n",
       "    <tr>\n",
       "      <th>Mois 1</th>\n",
       "      <td>5120.0</td>\n",
       "    </tr>\n",
       "    <tr>\n",
       "      <th>Mois 2</th>\n",
       "      <td>0.0</td>\n",
       "    </tr>\n",
       "    <tr>\n",
       "      <th>Mois 3</th>\n",
       "      <td>1175.0</td>\n",
       "    </tr>\n",
       "    <tr>\n",
       "      <th>Mois 4</th>\n",
       "      <td>0.0</td>\n",
       "    </tr>\n",
       "  </tbody>\n",
       "</table>\n",
       "</div>"
      ],
      "text/plain": [
       "        Variation production\n",
       "Mois 1                5120.0\n",
       "Mois 2                   0.0\n",
       "Mois 3                1175.0\n",
       "Mois 4                   0.0"
      ]
     },
     "metadata": {},
     "output_type": "display_data"
    }
   ],
   "source": [
    "var = np.array([prod.iloc[:,0].sum(),\n",
    "               prod.iloc[:,1].sum() - prod.iloc[:,0].sum(),\n",
    "               prod.iloc[:,2].sum() - prod.iloc[:,1].sum(),\n",
    "               prod.iloc[:,3].sum() - prod.iloc[:,2].sum()])\n",
    "var = pd.DataFrame({'Variation production':var})\n",
    "var.index = ['Mois 1', 'Mois 2', 'Mois 3', 'Mois 4']\n",
    "display(var)"
   ]
  },
  {
   "cell_type": "code",
   "execution_count": 20,
   "metadata": {},
   "outputs": [
    {
     "name": "stdout",
     "output_type": "stream",
     "text": [
      "Coût de total des 4 mois : 394460.0\n"
     ]
    }
   ],
   "source": [
    "print('Coût de total des 4 mois :',round(res.fun,2))"
   ]
  }
 ],
 "metadata": {
  "kernelspec": {
   "display_name": "Python 3",
   "language": "python",
   "name": "python3"
  },
  "language_info": {
   "codemirror_mode": {
    "name": "ipython",
    "version": 3
   },
   "file_extension": ".py",
   "mimetype": "text/x-python",
   "name": "python",
   "nbconvert_exporter": "python",
   "pygments_lexer": "ipython3",
   "version": "3.8.5"
  }
 },
 "nbformat": 4,
 "nbformat_minor": 4
}
